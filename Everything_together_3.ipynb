{
 "cells": [
  {
   "cell_type": "code",
   "execution_count": null,
   "id": "a081c78b",
   "metadata": {},
   "outputs": [],
   "source": [
    "# Etapes a faire:\n",
    "\n",
    "# 1. System that takes a question, returns the top k documents, -> correct answer.\n",
    "\n",
    "# 2. System that extracts the answer."
   ]
  }
 ],
 "metadata": {
  "kernelspec": {
   "display_name": "Python 3 (ipykernel)",
   "language": "python",
   "name": "python3"
  },
  "language_info": {
   "codemirror_mode": {
    "name": "ipython",
    "version": 3
   },
   "file_extension": ".py",
   "mimetype": "text/x-python",
   "name": "python",
   "nbconvert_exporter": "python",
   "pygments_lexer": "ipython3",
   "version": "3.8.10"
  }
 },
 "nbformat": 4,
 "nbformat_minor": 5
}
